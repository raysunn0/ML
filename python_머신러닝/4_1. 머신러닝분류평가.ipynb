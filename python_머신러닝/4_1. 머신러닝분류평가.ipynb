{
 "cells": [
  {
   "cell_type": "markdown",
   "metadata": {},
   "source": [
    "### sklearn.metrics.accuracy_score\n",
    "* sklearn.metrics.accuracy_score(y_true, y_pred, *, normalize=True, sample_weight=None)\n",
    "> https://scikit-learn.org/stable/modules/generated/sklearn.metrics.accuracy_score.html?highlight=accuracy#sklearn.metrics.accuracy_score"
   ]
  },
  {
   "cell_type": "markdown",
   "metadata": {},
   "source": [
    "### sklearn.metrics.precision_score\n",
    "* sklearn.metrics.precision_score(y_true, y_pred, *, labels=None, pos_label=1, average='binary', sample_weight=None, zero_division='warn')\n",
    "> https://scikit-learn.org/stable/modules/generated/sklearn.metrics.precision_score.html?highlight=precision_score#sklearn.metrics.precision_score"
   ]
  },
  {
   "cell_type": "markdown",
   "metadata": {},
   "source": [
    "### sklearn.metrics.recall_score\n",
    "* sklearn.metrics.recall_score(y_true, y_pred, *, labels=None, pos_label=1, average='binary', sample_weight=None, zero_division='warn')\n",
    "> https://scikit-learn.org/stable/modules/generated/sklearn.metrics.recall_score.html?highlight=recall_score#sklearn.metrics.recall_score"
   ]
  },
  {
   "cell_type": "markdown",
   "metadata": {},
   "source": [
    "### sklearn.metrics.confusion_matrix\n",
    "* sklearn.metrics.confusion_matrix(y_true, y_pred, *, labels=None, sample_weight=None, normalize=None)\n",
    "> https://scikit-learn.org/stable/modules/generated/sklearn.metrics.confusion_matrix.html?highlight=confusion_#sklearn.metrics.confusion_matrix"
   ]
  },
  {
   "cell_type": "markdown",
   "metadata": {},
   "source": [
    "### sklearn.metrics.f1_score\n",
    "* sklearn.metrics.f1_score(y_true, y_pred, *, labels=None, pos_label=1, average='binary', sample_weight=None, zero_division='warn')\n",
    "> https://scikit-learn.org/stable/modules/generated/sklearn.metrics.f1_score.html"
   ]
  },
  {
   "cell_type": "code",
   "execution_count": 4,
   "metadata": {},
   "outputs": [],
   "source": [
    "import pandas as pd\n",
    "\n",
    "df_titanic = pd.read_csv('./datasets/titanic_train.csv')\n",
    "df_titanic = df_titanic.loc[:, ['Survived', 'Pclass', 'Sex', 'Age']]\n",
    "X = df_titanic.drop('Survived', axis=1)\n",
    "y = df_titanic['Survived']\n",
    "X['Age'] = X['Age'].fillna(method = 'ffill')\n",
    "\n",
    "\n",
    "from sklearn.preprocessing import LabelEncoder\n",
    "\n",
    "encoder = LabelEncoder()\n",
    "labels = encoder.fit_transform(X['Sex'])\n",
    "X['Sex'] = labels\n",
    "\n",
    "\n",
    "from sklearn.preprocessing import MinMaxScaler\n",
    "import numpy as np\n",
    "\n",
    "scaler = MinMaxScaler()\n",
    "age = np.array(X['Age']).reshape(-1, 1)\n",
    "scaler.fit(age)\n",
    "age = scaler.transform(age)\n",
    "X['Age'] = age\n"
   ]
  },
  {
   "cell_type": "code",
   "execution_count": 25,
   "metadata": {},
   "outputs": [],
   "source": [
    "from sklearn.metrics import accuracy_score, precision_score, recall_score, confusion_matrix, f1_score\n",
    "\n",
    "def get_clf_eval(y_test, pred):\n",
    "    confusion = confusion_matrix(y_test, pred)\n",
    "    accuracy = accuracy_score(y_test, pred)\n",
    "    precision = precision_score(y_test, pred)\n",
    "    recall = recall_score(y_test, pred)\n",
    "    f1 = f1_score(y_test, pred)\n",
    "    print('오차 행렬 : ')\n",
    "    print(confusion)\n",
    "    #print('정확도 : {0:.4f}, 정밀도 : {1:.4f}, 재현율 : {2:.4f}, F1 : {3:.4f}'.format(accuracy, precision, recall, f1))\n",
    "    print(f'정확도: {accuracy:^.4f}, 정밀도: {precision:^.4f}, 재현율: {recall:^.4f}, F1: {f1:^.4f}')"
   ]
  },
  {
   "cell_type": "code",
   "execution_count": 26,
   "metadata": {},
   "outputs": [
    {
     "name": "stdout",
     "output_type": "stream",
     "text": [
      "오차 행렬 : \n",
      "[[101  17]\n",
      " [ 12  49]]\n",
      "정확도: 0.8380, 정밀도: 0.7424, 재현율: 0.8033, F1: 0.7717\n"
     ]
    }
   ],
   "source": [
    "from sklearn.model_selection import train_test_split\n",
    "from sklearn.linear_model import LogisticRegression\n",
    "\n",
    "# 원본 데이터를 재로딩, 데이터 가공, 학습데이터/테스트 데이터 분할\n",
    "X_train, X_test, y_train, y_test = train_test_split(X, y, test_size = 0.20, random_state=11)\n",
    "\n",
    "lr_clf = LogisticRegression()\n",
    "\n",
    "lr_clf.fit(X_train, y_train)\n",
    "pred = lr_clf.predict(X_test)\n",
    "get_clf_eval(y_test, pred)"
   ]
  },
  {
   "cell_type": "markdown",
   "metadata": {},
   "source": [
    "### sklearn.preprocessing.Binarizer\n",
    "* class sklearn.preprocessing.Binarizer(*, threshold=0.0, copy=True)\n",
    "> https://scikit-learn.org/stable/modules/generated/sklearn.preprocessing.Binarizer.html?highlight=binarizer#sklearn.preprocessing.Binarizer"
   ]
  },
  {
   "cell_type": "code",
   "execution_count": 27,
   "metadata": {},
   "outputs": [
    {
     "name": "stdout",
     "output_type": "stream",
     "text": [
      "pred_proba()결과 Shape : (179, 2)\n",
      "pred_proba array에서 앞 3개만 샘플로 추출 \n",
      ": [[0.42558527 0.57441473]\n",
      " [0.88833758 0.11166242]\n",
      " [0.88651722 0.11348278]]\n",
      "두 개의 class 중에서 더 큰 확률을 클래스 값으로 예측 \n",
      " [[0.42558527 0.57441473 1.        ]\n",
      " [0.88833758 0.11166242 0.        ]\n",
      " [0.88651722 0.11348278 0.        ]]\n"
     ]
    }
   ],
   "source": [
    "pred_proba = lr_clf.predict_proba(X_test)\n",
    "pred = lr_clf.predict(X_test)\n",
    "print('pred_proba()결과 Shape : {0}'.format(pred_proba.shape))\n",
    "print('pred_proba array에서 앞 3개만 샘플로 추출 \\n:', pred_proba[:3])\n",
    "\n",
    "# 예측 확률 array와 예측 결과값 array를 concatenate하여 예측 확률과 결과값을 한눈에 확인\n",
    "pred_proba_result = np.concatenate([pred_proba, pred.reshape(-1, 1)], axis = 1)\n",
    "print('두 개의 class 중에서 더 큰 확률을 클래스 값으로 예측 \\n', pred_proba_result[:3])\n",
    "# :3, 3개만 찍어봤는데, 그 중 오른쪽 값만 가져옴"
   ]
  },
  {
   "cell_type": "code",
   "execution_count": 35,
   "metadata": {},
   "outputs": [
    {
     "name": "stdout",
     "output_type": "stream",
     "text": [
      "[[0. 0. 1.]\n",
      " [1. 0. 0.]\n",
      " [0. 0. 1.]]\n"
     ]
    }
   ],
   "source": [
    "# 앞이 0값의 확률, 뒤가 1값의 확률\n",
    "\n",
    "# 0.5 말고 thres hold를 0.4로 보고, 오른쪽이 0.4보다 크면 1을 찍음\n",
    "# [[0.42558527 0.57441473 1.        ]\n",
    "# [0.88833758 0.11166242 0.        ]\n",
    "# [0.88651722 0.11348278 0.        ]]\n",
    "# 위 결과 값에서 1.1을 기준으로 가운데 값이 크면 1을 뱉는다.\n",
    "# 왼쪽 값 말고 오른쪽 값만 가져와서 binarizer해서 기준 값을 주고 \n",
    "# thres 값에 따라 0과 1에 차이가 생겨남\n",
    "\n",
    "from sklearn.preprocessing import Binarizer\n",
    "\n",
    "X = [[1, -1, 2],\n",
    "    [2, 0, 0],\n",
    "    [0, 1.1, 1.2]]\n",
    "\n",
    "# threshold 기준값을 1.1로 잡고, \n",
    "# 기준값보다 같거나 작으면 0을, 크면 1을 반환\n",
    "binarizer = Binarizer(threshold=1.1)\n",
    "print(binarizer.fit_transform(X))"
   ]
  },
  {
   "cell_type": "code",
   "execution_count": 36,
   "metadata": {},
   "outputs": [
    {
     "name": "stdout",
     "output_type": "stream",
     "text": [
      "오차 행렬 : \n",
      "[[101  17]\n",
      " [ 12  49]]\n",
      "정확도: 0.8380, 정밀도: 0.7424, 재현율: 0.8033, F1: 0.7717\n"
     ]
    }
   ],
   "source": [
    "# Binarizer의 threshold 설정값. 분류 결정 임곗값임\n",
    "custom_threshold = 0.5\n",
    "\n",
    "# predict_proba() 변환값의 두 번재 컬럼, 즉 Positive 클래스 컬럼 하나만 추출하여 Binarizer를 적용\n",
    "pred_proba_1 = pred_proba[:,1].reshape(-1, 1)\n",
    "\n",
    "binarizer = Binarizer(threshold=custom_threshold).fit(pred_proba_1)\n",
    "custom_predict = binarizer.transform(pred_proba_1)\n",
    "\n",
    "get_clf_eval(y_test, custom_predict)"
   ]
  },
  {
   "cell_type": "code",
   "execution_count": 37,
   "metadata": {},
   "outputs": [
    {
     "name": "stdout",
     "output_type": "stream",
     "text": [
      "오차 행렬 : \n",
      "[[94 24]\n",
      " [10 51]]\n",
      "정확도: 0.8101, 정밀도: 0.6800, 재현율: 0.8361, F1: 0.7500\n"
     ]
    }
   ],
   "source": [
    "# Binarizer의 threshold 설정값을 0.4로 설정. 즉 분류 결정 임곗값을 0.5에서 0.4로 낮춤\n",
    "custom_threshold = 0.4 # 임계값 변동, 재현율 오르고 F1 score 떨어졌음\n",
    "pred_proba_1 = pred_proba[:,1].reshape(-1, 1)\n",
    "binarizer = Binarizer(threshold=custom_threshold).fit(pred_proba_1)\n",
    "custom_predict = binarizer.transform(pred_proba_1)\n",
    "\n",
    "get_clf_eval(y_test, custom_predict)"
   ]
  },
  {
   "cell_type": "code",
   "execution_count": 40,
   "metadata": {},
   "outputs": [
    {
     "name": "stdout",
     "output_type": "stream",
     "text": [
      "임곗값 :  0.4\n",
      "오차 행렬 : \n",
      "[[94 24]\n",
      " [10 51]]\n",
      "정확도: 0.8101, 정밀도: 0.6800, 재현율: 0.8361, F1: 0.7500\n",
      "임곗값 :  0.45\n",
      "오차 행렬 : \n",
      "[[97 21]\n",
      " [11 50]]\n",
      "정확도: 0.8212, 정밀도: 0.7042, 재현율: 0.8197, F1: 0.7576\n",
      "임곗값 :  0.5\n",
      "오차 행렬 : \n",
      "[[101  17]\n",
      " [ 12  49]]\n",
      "정확도: 0.8380, 정밀도: 0.7424, 재현율: 0.8033, F1: 0.7717\n",
      "임곗값 :  0.55\n",
      "오차 행렬 : \n",
      "[[107  11]\n",
      " [ 17  44]]\n",
      "정확도: 0.8436, 정밀도: 0.8000, 재현율: 0.7213, F1: 0.7586\n",
      "임곗값 :  0.6\n",
      "오차 행렬 : \n",
      "[[111   7]\n",
      " [ 21  40]]\n",
      "정확도: 0.8436, 정밀도: 0.8511, 재현율: 0.6557, F1: 0.7407\n",
      "임곗값 :  0.65\n",
      "오차 행렬 : \n",
      "[[116   2]\n",
      " [ 28  33]]\n",
      "정확도: 0.8324, 정밀도: 0.9429, 재현율: 0.5410, F1: 0.6875\n"
     ]
    }
   ],
   "source": [
    "# 테스트를 수행할 모든 임곗값을 리스트 객체로 저장\n",
    "thresholds = [0.4, 0.45, 0.50, 0.55, 0.60, 0.65]\n",
    "pred_proba_1 = pred_proba[:,1].reshape(-1, 1)\n",
    "\n",
    "def get_eval_by_threshold(y_test, pred_proba_c1, thresholds):\n",
    "    # thresholds list 객체 내의 값을 차례로 iteration하면서 Evaluation 수행\n",
    "    for custom_threshold in thresholds:\n",
    "        binarizer = Binarizer(threshold = custom_threshold).fit(pred_proba_c1)\n",
    "        custom_predict = binarizer.transform(pred_proba_c1)\n",
    "        print('임곗값 : ', custom_threshold)\n",
    "        get_clf_eval(y_test, custom_predict)\n",
    "\n",
    "\n",
    "get_eval_by_threshold(y_test, pred_proba[:,1].reshape(-1, 1), thresholds)"
   ]
  },
  {
   "cell_type": "markdown",
   "metadata": {},
   "source": [
    "위의 결과에서는 뭐가 좋은지 알 수 없음 \\\n",
    "task에 따라 달라짐 \\\n",
    "임곗값 :  0.5 \\\n",
    "오차 행렬 : \\\n",
    "[[101  17] \\\n",
    " [ 12  49]] \\\n",
    "정확도: 0.8380, 정밀도: 0.7424, 재현율: 0.8033, F1: 0.7717 \\\n",
    "이 제일 좋은듯?"
   ]
  },
  {
   "cell_type": "markdown",
   "metadata": {},
   "source": [
    "### sklearn.metrics.precision_recall_curve\n",
    "* sklearn.metrics.precision_recall_curve(y_true, probas_pred, *, pos_label=None, sample_weight=None)\n",
    "> https://scikit-learn.org/stable/modules/generated/sklearn.metrics.precision_recall_curve.html?highlight=precision_recall#sklearn.metrics.precision_recall_curve"
   ]
  },
  {
   "cell_type": "code",
   "execution_count": 42,
   "metadata": {},
   "outputs": [
    {
     "name": "stdout",
     "output_type": "stream",
     "text": [
      "반환된 분류 결정 임곗값 배열의 Shape :  (124,)\n",
      "반환된 precisions 배열의 Shape :  (125,)\n",
      "반환된 recalls 배열의 Shape :  (125,)\n",
      "thresholds 5 sample :  [0.06556004 0.07136752 0.0776467  0.07896181 0.08303016]\n",
      "precisions 5 sample :  [0.34078212 0.34269663 0.34659091 0.35057471 0.35465116]\n",
      "recalls 5 sample :  [1. 1. 1. 1. 1.]\n"
     ]
    }
   ],
   "source": [
    "from sklearn.metrics import precision_recall_curve\n",
    "\n",
    "# 레이블 값이 1일 때의 예측 확률을 추출\n",
    "pred_proba_class1 = lr_clf.predict_proba(X_test)[:,1]\n",
    "\n",
    "# 실제값 데이터 셋과 레이블 값이 1일 때의 예측 확률을 precision_recall_curve 인자로 입력\n",
    "precisions, recalls, thresholds = precision_recall_curve(y_test, pred_proba_class1)\n",
    "print('반환된 분류 결정 임곗값 배열의 Shape : ', thresholds.shape)\n",
    "print('반환된 precisions 배열의 Shape : ', precisions.shape)\n",
    "print('반환된 recalls 배열의 Shape : ', recalls.shape)\n",
    "\n",
    "print('thresholds 5 sample : ', thresholds[:5])\n",
    "print('precisions 5 sample : ', precisions[:5])\n",
    "print('recalls 5 sample : ', recalls[:5])"
   ]
  },
  {
   "cell_type": "code",
   "execution_count": 43,
   "metadata": {},
   "outputs": [
    {
     "data": {
      "text/plain": [
       "array([0.06556004, 0.07136752, 0.0776467 , 0.07896181, 0.08303016,\n",
       "       0.08728826, 0.09023575, 0.09174288, 0.0932726 , 0.09482516,\n",
       "       0.09640082, 0.09799983, 0.09962244, 0.10126889, 0.10293945,\n",
       "       0.10463435, 0.10549101, 0.10635385, 0.1080982 , 0.10897977,\n",
       "       0.10986764, 0.11166242, 0.11348278, 0.11532897, 0.11720121,\n",
       "       0.12102485, 0.12297671, 0.12495557, 0.12696167, 0.12899523,\n",
       "       0.13105647, 0.13314561, 0.16046644, 0.16410501, 0.16543706,\n",
       "       0.16796832, 0.16860594, 0.16916563, 0.17698847, 0.18235972,\n",
       "       0.1934803 , 0.20215395, 0.21111466, 0.22036286, 0.22828902,\n",
       "       0.22989812, 0.23641383, 0.23971912, 0.24305591, 0.25325415,\n",
       "       0.25671573, 0.26728473, 0.27448237, 0.28179929, 0.2892335 ,\n",
       "       0.2929939 , 0.30625679, 0.31014194, 0.32009565, 0.32996465,\n",
       "       0.35678797, 0.3609806 , 0.36717731, 0.39293006, 0.39728508,\n",
       "       0.41044558, 0.41486206, 0.44162529, 0.45966787, 0.47327218,\n",
       "       0.48009052, 0.48386633, 0.48691629, 0.50057993, 0.50513529,\n",
       "       0.5096898 , 0.51574432, 0.51879324, 0.52484014, 0.52938226,\n",
       "       0.53391952, 0.53845117, 0.54600487, 0.56099958, 0.56995416,\n",
       "       0.57441473, 0.58329892, 0.58772119, 0.59212935, 0.60090068,\n",
       "       0.60526256, 0.60817606, 0.61824553, 0.63529409, 0.63950558,\n",
       "       0.64786397, 0.65613277, 0.67238594, 0.6763873 , 0.68823592,\n",
       "       0.71666593, 0.77198221, 0.77675777, 0.78762169, 0.80246296,\n",
       "       0.81098544, 0.84703546, 0.85398484, 0.86384915, 0.87620441,\n",
       "       0.88575332, 0.88758438, 0.88938976, 0.89465424, 0.90608514,\n",
       "       0.91210669, 0.91914185, 0.92048583, 0.92180936, 0.9231127 ,\n",
       "       0.92690405, 0.9281291 , 0.92933517, 0.94538645])"
      ]
     },
     "execution_count": 43,
     "metadata": {},
     "output_type": "execute_result"
    }
   ],
   "source": [
    "thresholds"
   ]
  },
  {
   "cell_type": "code",
   "execution_count": 44,
   "metadata": {},
   "outputs": [
    {
     "data": {
      "text/plain": [
       "array([0.34078212, 0.34269663, 0.34659091, 0.35057471, 0.35465116,\n",
       "       0.35672515, 0.36094675, 0.36309524, 0.36526946, 0.36746988,\n",
       "       0.36969697, 0.37654321, 0.38125   , 0.3836478 , 0.39102564,\n",
       "       0.39215686, 0.39473684, 0.39735099, 0.4       , 0.39864865,\n",
       "       0.40136054, 0.40689655, 0.4084507 , 0.41726619, 0.41605839,\n",
       "       0.42222222, 0.43076923, 0.448     , 0.4516129 , 0.45901639,\n",
       "       0.46666667, 0.47058824, 0.47863248, 0.48275862, 0.48695652,\n",
       "       0.49122807, 0.49107143, 0.4954955 , 0.5       , 0.50925926,\n",
       "       0.51401869, 0.51886792, 0.52380952, 0.52884615, 0.53398058,\n",
       "       0.53921569, 0.55      , 0.55555556, 0.56122449, 0.56701031,\n",
       "       0.57291667, 0.58510638, 0.59782609, 0.61797753, 0.625     ,\n",
       "       0.63218391, 0.63953488, 0.64705882, 0.6547619 , 0.6626506 ,\n",
       "       0.67073171, 0.66666667, 0.6625    , 0.66666667, 0.67532468,\n",
       "       0.68      , 0.68918919, 0.69444444, 0.70422535, 0.7       ,\n",
       "       0.71014493, 0.72058824, 0.73134328, 0.74242424, 0.73846154,\n",
       "       0.734375  , 0.74603175, 0.75806452, 0.7704918 , 0.79661017,\n",
       "       0.79310345, 0.78947368, 0.78571429, 0.8       , 0.7962963 ,\n",
       "       0.79245283, 0.80392157, 0.82      , 0.83673469, 0.85106383,\n",
       "       0.84090909, 0.90243902, 0.9       , 0.92105263, 0.91891892,\n",
       "       0.91666667, 0.94285714, 0.97058824, 0.96969697, 0.96875   ,\n",
       "       0.96774194, 0.96666667, 0.96428571, 0.96296296, 0.96153846,\n",
       "       0.95454545, 0.95238095, 0.95      , 0.94736842, 0.94444444,\n",
       "       1.        , 1.        , 1.        , 1.        , 1.        ,\n",
       "       1.        , 1.        , 1.        , 1.        , 1.        ,\n",
       "       1.        , 1.        , 1.        , 1.        , 1.        ])"
      ]
     },
     "execution_count": 44,
     "metadata": {},
     "output_type": "execute_result"
    }
   ],
   "source": [
    "precisions"
   ]
  },
  {
   "cell_type": "code",
   "execution_count": 49,
   "metadata": {},
   "outputs": [
    {
     "data": {
      "image/png": "[encoded data removed]",
      "text/plain": [
       "<Figure size 640x480 with 1 Axes>"
      ]
     },
     "metadata": {},
     "output_type": "display_data"
    }
   ],
   "source": [
    "import matplotlib.pyplot as plt\n",
    "\n",
    "plt.plot(thresholds, recalls[0:124], marker = '.', label='Recall')\n",
    "plt.plot(thresholds, precisions[0:124], marker = '.', label='Precision')\n",
    "plt.legend\n",
    "plt.show()"
   ]
  },
  {
   "cell_type": "markdown",
   "metadata": {},
   "source": [
    "### sklearn.metrics.roc_curve\n",
    "* sklearn.metrics.roc_curve(y_true, y_score, *, pos_label=None, sample_weight=None, drop_intermediate=True)\n",
    "> https://scikit-learn.org/stable/modules/generated/sklearn.metrics.roc_curve.html?highlight=roc_curve#sklearn.metrics.roc_curve"
   ]
  },
  {
   "cell_type": "code",
   "execution_count": 51,
   "metadata": {},
   "outputs": [
    {
     "name": "stdout",
     "output_type": "stream",
     "text": [
      "샘플 추출을 위한 임계값 배열의 index :  [ 1  6 11 16 21 26 31 36 41 46 51 56 61 66]\n",
      "샘플 index로 추출한 임계값 :  [0.95 0.81 0.65 0.6  0.55 0.47 0.4  0.27 0.18 0.13 0.12 0.11 0.1  0.08]\n",
      "샘플 임계값별 FPR :  [0.    0.008 0.025 0.059 0.102 0.178 0.212 0.314 0.466 0.542 0.678 0.754\n",
      " 0.839 0.941]\n",
      "샘플 임계값별 TPR :  [0.016 0.344 0.541 0.656 0.721 0.803 0.852 0.902 0.902 0.918 0.934 0.967\n",
      " 1.    1.   ]\n"
     ]
    }
   ],
   "source": [
    "from sklearn.metrics import roc_curve\n",
    "\n",
    "# 레이블 값이 1일 때의 예측 확률을 추출\n",
    "pred_proba_class1 = lr_clf.predict_proba(X_test)[:,1]\n",
    "\n",
    "fprs, tprs, thresholds = roc_curve(y_test, pred_proba_class1)\n",
    "# 반환된 임계값 배열에서 샘플로 데이터를 추출하되, 임계값을 5 step을 추출\n",
    "# thresholds[0]은 max(예측확률)+1로 임의 설정됨. 이를 제외하기 위해 np.arange는 1부터 시작\n",
    "thr_index = np.arange(1, thresholds.shape[0], 5)\n",
    "print('샘플 추출을 위한 임계값 배열의 index : ', thr_index)\n",
    "print('샘플 index로 추출한 임계값 : ', np.round(thresholds[thr_index], 2))\n",
    "\n",
    "# 5 step 단위로 추출된 임계값에 따른 FPR, TPR 값\n",
    "print('샘플 임계값별 FPR : ', np.round(fprs[thr_index], 3))\n",
    "print('샘플 임계값별 TPR : ', np.round(tprs[thr_index], 3))"
   ]
  },
  {
   "cell_type": "code",
   "execution_count": 58,
   "metadata": {},
   "outputs": [
    {
     "data": {
      "text/plain": [
       "(69,)"
      ]
     },
     "execution_count": 58,
     "metadata": {},
     "output_type": "execute_result"
    }
   ],
   "source": [
    "thresholds.shape"
   ]
  },
  {
   "cell_type": "code",
   "execution_count": 56,
   "metadata": {},
   "outputs": [
    {
     "data": {
      "text/plain": [
       "array([ 1,  6, 11, 16, 21, 26, 31, 36, 41, 46, 51, 56, 61, 66])"
      ]
     },
     "execution_count": 56,
     "metadata": {},
     "output_type": "execute_result"
    }
   ],
   "source": [
    "np.arange(1, 69, 5) # threshold index 를 일정 값으로 띄워서 찍어본 것"
   ]
  },
  {
   "cell_type": "code",
   "execution_count": 54,
   "metadata": {},
   "outputs": [
    {
     "data": {
      "image/png": "[encoded data removed]",
      "text/plain": [
       "<Figure size 640x480 with 1 Axes>"
      ]
     },
     "metadata": {},
     "output_type": "display_data"
    }
   ],
   "source": [
    "fprs, tprs, thresholds = roc_curve(y_test, pred_proba_class1)\n",
    "\n",
    "plt.plot(fprs, tprs, label = 'ROC')\n",
    "plt.plot([0, 1], [0, 1], 'k--', label='Random')\n",
    "\n",
    "start, end = plt.xlim()\n",
    "plt.xticks(np.round(np.arange(start, end, 0.1), 2))\n",
    "plt.xlim(0, 1); plt.ylim(0, 1)\n",
    "plt.xlabel('FPR(1-Sensitivity)'); plt.ylabel('TPR(Recall)')\n",
    "plt.legend()\n",
    "plt.show()"
   ]
  },
  {
   "cell_type": "code",
   "execution_count": 55,
   "metadata": {},
   "outputs": [
    {
     "name": "stdout",
     "output_type": "stream",
     "text": [
      "ROC AUC 값 : 0.8900\n"
     ]
    }
   ],
   "source": [
    "from sklearn.metrics import roc_auc_score\n",
    "\n",
    "# pred = lr_clf.predict(X_test)\n",
    "# roc_score = roc_auc_score(y_test, pred)\n",
    "\n",
    "pred_proba = lr_clf.predict_proba(X_test)[:, 1]\n",
    "roc_score = roc_auc_score(y_test, pred_proba)\n",
    "print('ROC AUC 값 : {0:.4f}'.format(roc_score))"
   ]
  },
  {
   "cell_type": "code",
   "execution_count": 59,
   "metadata": {},
   "outputs": [
    {
     "data": {
      "image/png": "[encoded data removed]",
      "text/plain": [
       "<Figure size 640x480 with 1 Axes>"
      ]
     },
     "metadata": {},
     "output_type": "display_data"
    }
   ],
   "source": [
    "# 함수로\n",
    "\n",
    "def roc_curve_plot(y_test, pred_proba_c1):\n",
    "    # 임곗값에 따른 FPR, TPR 값을 반환 받음\n",
    "    fprs, tprs, thresholds = roc_curve(y_test, pred_proba_c1)\n",
    "    # ROC Curve를 plot 곡선으로 그림\n",
    "    plt.plot(fprs, tprs, label = 'ROC')\n",
    "    # 가운데 대각선 직선을 그림\n",
    "    plt.plot([0,1], [0,1], 'k--', label='Random')\n",
    "    # FPR X축의 scale을 0.1 단위로 변경, X, Y 축명 설정등\n",
    "    start, end = plt.xlim()\n",
    "    plt.xticks(np.round(np.arange(start, end, 0.1), 2))\n",
    "    plt.xlim(0,1); plt.ylim(0,1)\n",
    "    plt.xlabel('FPR(1-Sensitivity)'); plt.ylabel('TPR(Recall)')\n",
    "    plt.legend()\n",
    "    plt.show()\n",
    "    \n",
    "roc_curve_plot(y_test, pred_proba_class1)"
   ]
  },
  {
   "cell_type": "code",
   "execution_count": null,
   "metadata": {},
   "outputs": [],
   "source": []
  }
 ],
 "metadata": {
  "kernelspec": {
   "display_name": "Python 3.10.7 64-bit",
   "language": "python",
   "name": "python3"
  },
  "language_info": {
   "codemirror_mode": {
    "name": "ipython",
    "version": 3
   },
   "file_extension": ".py",
   "mimetype": "text/x-python",
   "name": "python",
   "nbconvert_exporter": "python",
   "pygments_lexer": "ipython3",
   "version": "3.10.7"
  },
  "orig_nbformat": 4,
  "vscode": {
   "interpreter": {
    "hash": "e205c5c3685dc83fb395c1e91e521dfba0cb0fb0c3eaf2931f4234d8709f72ee"
   }
  }
 },
 "nbformat": 4,
 "nbformat_minor": 2
}
